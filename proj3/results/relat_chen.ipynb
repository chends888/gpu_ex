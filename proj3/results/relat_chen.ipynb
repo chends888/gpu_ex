{
 "cells": [
  {
   "cell_type": "markdown",
   "metadata": {},
   "source": [
    "# Projeto 3 - Supercomputação\n",
    "# TSP GPU\n",
    "### Lucas Chen Alba"
   ]
  },
  {
   "cell_type": "markdown",
   "metadata": {},
   "source": [
    "## Descrição do problema"
   ]
  },
  {
   "cell_type": "markdown",
   "metadata": {},
   "source": [
    "Este projeto consiste em realizar simulações do conhecido problema do caixeiro-viajante (https://en.wikipedia.org/wiki/Travelling_salesman_problem) e analisar o ganho de velocidade com a utilização de técnicas de computação paralela e otimizações. A simulação consiste em encontrar o caminho ótimo ou sub-ótimo para um dado número de nós na rede do caxeiro.\n",
    "A técnica usada é a de montar sequências aleatórias e selecionar a melhor dentre elas"
   ]
  },
  {
   "cell_type": "markdown",
   "metadata": {},
   "source": [
    "## Medições de tempo"
   ]
  },
  {
   "cell_type": "markdown",
   "metadata": {},
   "source": [
    "Para as medições do tempo gasto nas simulações foi utilizada a biblioteca _chrono_ para CPU e a biblioteca nativa do CUDA para GPU.\n",
    "\n",
    "A simulação utiliza-se de duas configurações de _flags_ de compilação distintas:\n",
    "\n",
    "__-O3__ (para GPU)\n",
    "\n",
    "__-O3 -fopenmp__ (para CPU)"
   ]
  },
  {
   "cell_type": "markdown",
   "metadata": {},
   "source": [
    "## Organização geral do código"
   ]
  },
  {
   "cell_type": "markdown",
   "metadata": {},
   "source": [
    "### Local Search (CPU)\n",
    "Para a otimização discreta \"Local Search\" foram implementadas duas novas funções:\n",
    "\n",
    "__void local_search(std::vector<std::vector<double>> points, double &best_cost, std::vector<std::vector<double>> &best_sol)__: Esta função irá receber um caminho aleatório e irá otimizá-lo até chegar em uma solução sub-ótima, significando um mínimo local. Ela faz isso a partir da checagem de \"cruzamentos\" entre dois pares de pontos quaisquer do caminho, ela então realiza um \"swap\" dos pontos, assim, quando todos os cruzamentos forem resolvidos, este será o mínimo local.\n",
    "    \n",
    "__bool check_intersec(std::vector<double> p1, std::vector<double> p2, std::vector<double> q1, std::vector<double> q2)__: Esta função recebe uma sequência de 4 pontos e checa se há alguma interseção entre os segmentos de reta formados pelos dois pares de pontos.\n",
    "\n",
    "Na função _main()_ serão gerados 10000 caminhos aleatórios, caminhos estes que serão passados para chamadas da função local_search(), este número define a quantidade de caminhos iniciais aleatórios seráo otimizados pelo Local Search.\n",
    "\n",
    "### Random (GPU, CUDA)\n",
    "Este código realiza a divisão de tarefas em \"kernels\". Inicialmente são pré-calculadas as distâncias entre os nós da rede. Essas distâncias são então guardadas em um vetor __device__ (memória global da GPU).\n",
    "\n",
    "Assim, podemos criar um kernel para cada caminho aleatório. Foram criados 10000 kernels, cada um realizando então um \"shuffle\" nos caminhos, guardando a respectiva sequência e a distância (calculada a partir do vetor de distâncias) total em um outro vetor __device__. Assim, conseguimos utilizar a função da biblioteca thrust (thrust::min_element) para localizar o índice do menos caminho."
   ]
  },
  {
   "cell_type": "code",
   "execution_count": 5,
   "metadata": {},
   "outputs": [],
   "source": [
    "import pandas as pd\n",
    "import matplotlib.pyplot as plt"
   ]
  },
  {
   "cell_type": "code",
   "execution_count": 6,
   "metadata": {},
   "outputs": [
    {
     "data": {
      "text/plain": [
       "Text(0.5, 1.0, 'Simulation times')"
      ]
     },
     "execution_count": 6,
     "metadata": {},
     "output_type": "execute_result"
    },
    {
     "data": {
      "image/png": "[encoded data removed]",
      "text/plain": [
       "<Figure size 432x288 with 1 Axes>"
      ]
     },
     "metadata": {
      "needs_background": "light"
     },
     "output_type": "display_data"
    }
   ],
   "source": [
    "# Mean times\n",
    "groups = [[17.82, 0.010]]\n",
    "group_labels = ['1']\n",
    "\n",
    "# Convert data to pandas DataFrame.\n",
    "df = pd.DataFrame(groups, index=group_labels).T\n",
    "\n",
    "# Plot\n",
    "pd.concat(\n",
    "    [df.loc[0].rename('Local Search'),\n",
    "     df.loc[1].rename('GPU')],\n",
    "    axis=1).plot.bar()\n",
    "plt.xlabel('Times simulated', fontsize=13)\n",
    "plt.ylabel('Time(s)', fontsize=13)\n",
    "plt.title('Simulation times', fontsize=16)"
   ]
  },
  {
   "cell_type": "markdown",
   "metadata": {},
   "source": [
    "## Resultados e análises"
   ]
  },
  {
   "cell_type": "markdown",
   "metadata": {},
   "source": [
    "Percebemos um alto ganho no desempenho quando comparamos a versão CPU com a GPU. Isso se deve ao fato da GPU possuir muitos kernels que realizam as terefas simultaneamente, enquante na CPU (Local Search) cada task realiza também as tarefas em paralelo, porém é necessário um bloco de código inserido em uma região crítica (#pragma omp critical), para evitar escritas simultâneas na memória."
   ]
  },
  {
   "cell_type": "code",
   "execution_count": null,
   "metadata": {},
   "outputs": [],
   "source": []
  }
 ],
 "metadata": {
  "kernelspec": {
   "display_name": "Python 3",
   "language": "python",
   "name": "python3"
  },
  "language_info": {
   "codemirror_mode": {
    "name": "ipython",
    "version": 3
   },
   "file_extension": ".py",
   "mimetype": "text/x-python",
   "name": "python",
   "nbconvert_exporter": "python",
   "pygments_lexer": "ipython3",
   "version": "3.7.5rc1"
  }
 },
 "nbformat": 4,
 "nbformat_minor": 2
}
