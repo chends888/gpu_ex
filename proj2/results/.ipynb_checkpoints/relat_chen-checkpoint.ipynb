{
 "cells": [
  {
   "cell_type": "markdown",
   "metadata": {},
   "source": [
    "# Projeto 1 - Supercomputação\n",
    "### Lucas Chen Alba"
   ]
  },
  {
   "cell_type": "markdown",
   "metadata": {},
   "source": [
    "## Descrição do problema"
   ]
  },
  {
   "cell_type": "markdown",
   "metadata": {},
   "source": [
    "Este projeto consiste em realizar simulações do conhecido problema do caxeiro-viajante (https://en.wikipedia.org/wiki/Travelling_salesman_problem) e analisar o ganho de velocidade com a utilização de técnicas de computação paralela e otimizações. A simulação consiste em encontrar o caminho ótimo ou sub-ótimo para um dado número de nós na rede do caxeiro. A primeira técnica para encontrar o caminho ótimo é a enumeração exaustiva, que consiste em testar todos os caminhos possíveis e elegir o melhor dentre eles."
   ]
  },
  {
   "cell_type": "markdown",
   "metadata": {},
   "source": [
    "## Medições de tempo"
   ]
  },
  {
   "cell_type": "markdown",
   "metadata": {},
   "source": [
    "Para as medições do tempo gasto nas simulações foi utilizada a biblioteca _chrono_. O tempo é medido e enviado para arquivos _.json_. Tendo os executáveis prontos, estes são executados 5 vezes neste arquivo _.ipynb_ para entradas aleatórias (de 10 à 12 pontos no plano) geradas pelo arquivo _generator.py_. Assim calcula-se a média das diferentes configurações de otimização.\n",
    "\n",
    "A simulação utiliza-se de duas configurações de _flags_ de compilação distintas:\n",
    "\n",
    "__-O3__ (apenas para o sequencial)\n",
    "\n",
    "__-O3 -fopenmp__"
   ]
  },
  {
   "cell_type": "markdown",
   "metadata": {},
   "source": [
    "## Organização geral do código"
   ]
  },
  {
   "cell_type": "markdown",
   "metadata": {},
   "source": [
    "### Sequencial\n",
    "O código possui 4 funções não incluindo a _main()_. Segue a explicação básica de cada função:\n",
    "\n",
    "- __double dist(std::vector<double> p1, std::vector<double> p2)__: Recebe dois vetores com a posição de dois pontos e calcula a distância entre eles.\n",
    "\n",
    "- __double path_dist(std::vector<int> sol, std::vector<std::vector<double>> points)__: Recebe dois vetores, o primeiro com uma sequência de pontos e o segundo com as posições dos pontos e calcula a distância total para percorrer todos os pontos no primeiro vetor.\n",
    "\n",
    "- __double backtrack(std::vector<std::vector<double>> points, int idx, double curr_cost, double best_cost, std::vector<int> curr_sol, std::vector<bool> used, std::vector<int> &best_sol)__: Recebe todos os parâmetros necessários para realizar a enumeração exaustiva. Realiza chamadas recursivas para percorrer caminhos a partir de um nó, assim, esse nó \"inicial\" é trocado quando o código passa para a próxima iteração do loop de chamadas recursivas, assim percorrendo em cascata todos os caminhos trocando-se o \"nó inicial\".\n",
    "\n",
    "Quando o código é executado, primeiramente são coletados todos os inputs da saída do arquivo _generator.py_ passados como _cin_, assim, todos os pontos são gerados e gravados em um vetor de vetores(x, y).\n",
    "\n",
    "Após a geração dos pontos, é chamada a função _backtrack()_, no final de sua execução, o vetor _best_sol_ automaticamente contém a melhor sequência.\n",
    "\n",
    "\n",
    "### Paralela\n",
    "Para a versão paralela do código, continua-se executando a função _backtrack()_ múltiplas vezes, porém agora dividimos o trabalho entre _tasks_ criadas na função _main()_, a diferença entre elas será que cada task irá iniciar suas chamadas recursivas a partir de um nó diferente, podendo realizar a enumeração exaustiva em paralelo.\n",
    "\n",
    "\n",
    "### Local Search\n",
    "Para a otimização discreta \"Local Search\" foram implementadas duas novas funções:\n",
    "__void local_search(std::vector<std::vector<double>> points, double &best_cost, std::vector<std::vector<double>> &best_sol)__: Esta função irá receber um caminho aleatório e irá otimizá-lo até chegar em uma solução sub-ótima, significando um mínimo local. Ela faz isso a partir da checagem de \"cruzamentos\" entre dois pares de pontos quaisquer do caminho, ela então realiza um \"swap\" dos pontos, assim, quando todos os cruzamentos forem resolvidos, este será o mínimo local.\n",
    "__bool check_intersec(std::vector<double> p1, std::vector<double> p2, std::vector<double> q1, std::vector<double> q2)__: Esta função recebe uma sequência de 4 pontos e checa se há alguma interseção entre os segmentos de reta formados pelos dois pares de pontos.\n",
    "\n",
    "Na função _main()_ serão gerados N caminhos aleatórios, caminhos estes que serão passados para chamadas da funçãoeste número define a quantidade de caminhos iniciais aleatórios seráo otimizados pelo Local Search\n",
    "\n",
    "### Branch and Bound\n",
    "Este código é muito parecido com o código de enumeração exaustiva em paralelo, porém o seu conceito é muito mais perspicaz. Sempre que uma nova chamada da função _backtrack()_ é feita, é realizada a comparação do custo do caminho até o momento, caso o caminho seja maior, a execução da chamada atual é cancelada."
   ]
  },
  {
   "cell_type": "code",
   "execution_count": 223,
   "metadata": {},
   "outputs": [],
   "source": [
    "import os\n",
    "import json\n",
    "import pandas as pd\n",
    "import matplotlib.pyplot as plt\n",
    "import statistics\n",
    "import subprocess\n",
    "import math"
   ]
  },
  {
   "cell_type": "code",
   "execution_count": 179,
   "metadata": {
    "scrolled": true
   },
   "outputs": [
    {
     "data": {
      "text/plain": [
       "CompletedProcess(args=['make'], returncode=0)"
      ]
     },
     "execution_count": 179,
     "metadata": {},
     "output_type": "execute_result"
    }
   ],
   "source": [
    "# Build simulations\n",
    "\n",
    "subprocess.run(['cmake', '..'], cwd='../build')\n",
    "subprocess.run(['make'], cwd='../build')"
   ]
  },
  {
   "cell_type": "code",
   "execution_count": 180,
   "metadata": {},
   "outputs": [],
   "source": [
    "# Build standard inputs with generator.py\n",
    "for i in range(2, 15):\n",
    "    inp = subprocess.run(['python3', 'generator.py'], input=bytearray(str(i), 'utf-8'), cwd='../', stdout=subprocess.PIPE)\n",
    "    inp = inp.stdout.decode()\n",
    "    with open('../inputs/in'+str(i), 'w') as file:\n",
    "        file.write(inp)\n",
    "\n",
    "# Build standard outputs with tsp.py\n",
    "for i in range(2, 5):\n",
    "    out = subprocess.run(['python3', 'tsp.py'], input=bytearray(open('../inputs/in'+str(i)).read(), 'utf-8'), cwd='../', stdout=subprocess.PIPE)\n",
    "    out = out.stdout.decode()\n",
    "    with open('../outputs/out'+str(i), 'w') as file:\n",
    "        file.write(out)"
   ]
  },
  {
   "cell_type": "code",
   "execution_count": 181,
   "metadata": {},
   "outputs": [
    {
     "name": "stdout",
     "output_type": "stream",
     "text": [
      "All tests are ok\n"
     ]
    }
   ],
   "source": [
    "# Validate answers from the simulations\n",
    "simulations = ['seq-opt', 'par1-opt', 'locsea-opt', 'bb-opt']\n",
    "# 'locsea-bb-opt'\n",
    "\n",
    "flag = True\n",
    "for _ in range(10):\n",
    "    for size in range(2, 5):\n",
    "        for sim in simulations:\n",
    "            process = subprocess.run(['./'+sim], input=bytearray(open('../inputs/in'+str(size)).read(), 'utf-8'), stdout=subprocess.PIPE, cwd='../build', stderr=subprocess.PIPE)\n",
    "            process = process.stdout.decode()\n",
    "            out = open('../outputs/out'+str(size)).read()\n",
    "            # Check total distance and sequence\n",
    "            if (process != out and sim in ['seq']):\n",
    "                print(sim+': wrong')\n",
    "                print('real:', repr(process))\n",
    "                print('ideal:', repr(out))\n",
    "                flag = not flag\n",
    "            # Test total distance, but not sequence due to paralellism\n",
    "            else:\n",
    "                process = process.split('\\n')[0].split(' ')[0]\n",
    "                out = out.split('\\n')[0].split(' ')[0]\n",
    "                if (process != out):\n",
    "                    print(sim+': wrong')\n",
    "                    print('real:', repr(process))\n",
    "                    print('ideal:', repr(out))\n",
    "                    flag = False\n",
    "if (flag):\n",
    "    print('All tests are ok')"
   ]
  },
  {
   "cell_type": "code",
   "execution_count": 214,
   "metadata": {},
   "outputs": [],
   "source": [
    "# Run simulations and get mean times\n",
    "\n",
    "# ['seq-opt', 'par1-opt', 'locsea-opt', 'bb-opt']\n",
    "times = {}\n",
    "simulations = ['seq-opt', 'par1-opt', 'locsea-opt', 'bb-opt']\n",
    "\n",
    "for sim in simulations:\n",
    "    times[sim] = []\n",
    "\n",
    "for sim in simulations:\n",
    "    for size in range(10, 13):\n",
    "        temp = []\n",
    "        for _ in range(5):\n",
    "            process = subprocess.run(['./'+sim], input=bytearray(open('../inputs/in'+str(size)).read(), 'utf-8'), stdout=subprocess.PIPE, cwd='../build', stderr=subprocess.PIPE)\n",
    "            process = process.stderr.decode()\n",
    "            temp.append(float(process.split('\\n')[0]))\n",
    "        times[sim].append(sum(temp) / float(len(temp)))"
   ]
  },
  {
   "cell_type": "code",
   "execution_count": 228,
   "metadata": {
    "scrolled": true
   },
   "outputs": [
    {
     "name": "stdout",
     "output_type": "stream",
     "text": [
      "[[0.34347380000000005, 0.1478142, 0.004195659999999999, 0.04028274], [3.653792, 1.702168, 0.0036435219999999997, 0.26158], [43.51182, 21.221880000000002, 0.00304759, 1.810666]]\n"
     ]
    }
   ],
   "source": [
    "mean_times = [[], [], []]\n",
    "for mean in times.values():\n",
    "    mean_times[0].append(mean[0])\n",
    "    mean_times[1].append(mean[1])\n",
    "    mean_times[2].append(mean[2])\n",
    "print(mean_times)\n"
   ]
  },
  {
   "cell_type": "code",
   "execution_count": 229,
   "metadata": {},
   "outputs": [
    {
     "data": {
      "text/plain": [
       "Text(0.5, 1.0, 'Mean times')"
      ]
     },
     "execution_count": 229,
     "metadata": {},
     "output_type": "execute_result"
    },
    {
     "data": {
      "image/png": "[encoded data removed]",
      "text/plain": [
       "<Figure size 432x288 with 1 Axes>"
      ]
     },
     "metadata": {
      "needs_background": "light"
     },
     "output_type": "display_data"
    }
   ],
   "source": [
    "# Mean times\n",
    "groups = mean_times\n",
    "group_labels = ['10', '11', '12']\n",
    "\n",
    "# Convert data to pandas DataFrame.\n",
    "df = pd.DataFrame(groups, index=group_labels).T\n",
    "\n",
    "# Plot.\n",
    "pd.concat(\n",
    "    [df.loc[0].rename('Sequential'),\n",
    "     df.loc[1].rename('Parallel'), \n",
    "     df.loc[2].rename('Local Search'),\n",
    "     df.loc[3].rename('Branch and Bound')],\n",
    "    axis=1).plot.bar()\n",
    "plt.xlabel('Times simulated', fontsize=13)\n",
    "plt.ylabel('Time(s)', fontsize=13)\n",
    "plt.title('Mean times', fontsize=16)"
   ]
  },
  {
   "cell_type": "markdown",
   "metadata": {},
   "source": [
    "## Resultados e análises"
   ]
  },
  {
   "cell_type": "markdown",
   "metadata": {},
   "source": [
    "Os ganhos nas otimizações discretas são bastante visíveis, sendo o mais rápido de todos, o Local Search, isso se da por ele não depender do número de nós da entrada, apenas do número de iterações iniciais (número de caminhos aleatórios iniciais), isto pode ser bom no caso de poucos nós, onde a variação de caminhos não é alta, porém em casos maiores, o caminho sub-ótimo encontrado pode ser bastante impreciso. O segundo é o Branch and Bound, este é bem mais rápido do que o paralelo pois ele realiza basicamente os mesmos trajetos do que a enumeração exaustiva porém com condições de parada, não precisando gastar tempo em caminho que não serão melhores que o melhor até o momento.\n",
    "\n",
    "Não foram implementadas melhorias no sistema de comparação do Branch and Bound, que poderiam potencialmente reduzir os tempos de execução."
   ]
  },
  {
   "cell_type": "code",
   "execution_count": null,
   "metadata": {},
   "outputs": [],
   "source": []
  }
 ],
 "metadata": {
  "kernelspec": {
   "display_name": "Python 3",
   "language": "python",
   "name": "python3"
  },
  "language_info": {
   "codemirror_mode": {
    "name": "ipython",
    "version": 3
   },
   "file_extension": ".py",
   "mimetype": "text/x-python",
   "name": "python",
   "nbconvert_exporter": "python",
   "pygments_lexer": "ipython3",
   "version": "3.7.3"
  }
 },
 "nbformat": 4,
 "nbformat_minor": 2
}
