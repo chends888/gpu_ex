{
 "cells": [
  {
   "cell_type": "markdown",
   "metadata": {},
   "source": [
    "# Projeto 4 - Supercomputação\n",
    "### Lucas Chen Alba"
   ]
  },
  {
   "cell_type": "markdown",
   "metadata": {},
   "source": [
    "## Descrição do problema"
   ]
  },
  {
   "cell_type": "markdown",
   "metadata": {},
   "source": [
    "Este projeto consiste em realizar simulações do conhecido problema do ciaxeiro-viajante (https://en.wikipedia.org/wiki/Travelling_salesman_problem) e analisar o ganho de velocidade utilizando técnicas de MPI.\n",
    "\n",
    "O MPI (Message Passing Interface) permite a troca de mensagens entre \"workers\", sejam eles \"threads\" de um mesmo computador, ou computadores remotos, possibilitando a divisão inteligente de trabalho.\n",
    "\n",
    "A primeira técnica para encontrar o caminho ótimo é a enumeração exaustiva, que consiste em testar todos os caminhos possíveis e elegir o melhor dentre eles.\n",
    "\n",
    "A segunda técnica utilizada é a busca local, a qual não encontra o caminho ótimo para o caixeiro, mas o sub-ótimo.\n"
   ]
  },
  {
   "cell_type": "markdown",
   "metadata": {},
   "source": [
    "## Medições de tempo"
   ]
  },
  {
   "cell_type": "markdown",
   "metadata": {},
   "source": [
    "Para as medições do tempo gasto nas simulações foi utilizada a biblioteca _chrono_. Cada simulação envia o seu tempo de execução para um arquivo _.json_.\n",
    "\n",
    "Foram testadas as entradas de tamanho 10, 11 e 12. Medindo o tempo apenas uma vez para cada simulação, sendo elas a simulação paralela (OpenMP) em CPU, e as duas utilizando MPI.\n",
    "\n",
    "A simulação utiliza-se das seguites _flags_ de compilação MPI:\n",
    "\n",
    "\n",
    "__-lboost_mpi -lboost_serialization__"
   ]
  },
  {
   "cell_type": "markdown",
   "metadata": {},
   "source": [
    "## Organização geral do código"
   ]
  },
  {
   "cell_type": "markdown",
   "metadata": {},
   "source": [
    "### Enumeração exaustiva\n",
    "A enumeração exaustiva consiste em testar todos os possíveis caminhos que o caixeiro viajante pode realizar, podendo assim garantir obter o resultado ótimo.\n",
    "#### Explicação do código\n",
    "\n",
    "__int main()__: Na \"main\" o nó principal (rank 0) realiza a coleta de dados do input e distribui via _broadcast_ para todos os workers disponíveis. De posse dos dados, todos os workers realizam a chamada da função _backtrack_ (explicação a seguir).\n",
    "\n",
    "__double backtrack()__: Aqui é que ocorre a real distribuição do trabalho entre os _workers_. Esta função realiza chamadas recursivas para testar todos os possíveis caminhos. Podemos abstrair as chamadas recursivas para uma árvore de chamadas, segue um exemplo para 4 nós na rede: Em uma situação sequencial o nó 0 realiza a chamada de para as _sub-árvores_ dos nós 1, 2 e 3. A diferença nesta simulação é que cada sub-árvore será executada por um worker diferente (caso o número de workers seja maior do que o número de nós), caso contrário o número de sub-árvores é sub-dividio igualmente entre os workers. Assim que a execução desta função termina, todos os workers enviam o seu melhor caminho para o nó 0, podendo assim comparar todos resultados e retornar o melhor.\n",
    "\n",
    "\n",
    "\n",
    "### Busca Local\n",
    "A busca local consiste em calcular o caminho sub-ótimo para múltiplos caminhos aleatórios\n",
    "#### Explicação do código\n",
    "__int main()__: Na \"main\", o nó principal (rank 0) realiza a coleta de dados do input e distribui via _broadcast_ para todos os workers disponíveis. De posse dos dados, todos os workers realizam um número fixo de de iterações, onde cada iteração consiste em randomizar a ordem dos pontos recebidos e realizar a chamada da função _local_search_.\n",
    "\n",
    "__void local_search()__: Nesta função, cada worker realizara trocas na ordem dos pontos dados, com o objetivo de alcançar o melhor caminho local, basicamente ele retira intersecções entre os nós.\n",
    "Quando todas as iterações são feitas, temos um caminho sub-ótimo para cada worker, podendo assim passar adiante o valor para o nó 0, o qual realizará a comparação dos diferentes caminhos e retornará o melhor deles.\n"
   ]
  },
  {
   "cell_type": "code",
   "execution_count": 1,
   "metadata": {},
   "outputs": [],
   "source": [
    "import os\n",
    "import json\n",
    "import pandas as pd\n",
    "import matplotlib.pyplot as plt\n",
    "import statistics\n",
    "import subprocess\n",
    "import math"
   ]
  },
  {
   "cell_type": "code",
   "execution_count": 2,
   "metadata": {
    "scrolled": true
   },
   "outputs": [
    {
     "data": {
      "text/plain": [
       "CompletedProcess(args=['make'], returncode=0)"
      ]
     },
     "execution_count": 2,
     "metadata": {},
     "output_type": "execute_result"
    }
   ],
   "source": [
    "# Build simulations\n",
    "\n",
    "subprocess.run(['cmake', '..'], cwd='../build')\n",
    "subprocess.run(['make'], cwd='../build')"
   ]
  },
  {
   "cell_type": "code",
   "execution_count": 19,
   "metadata": {},
   "outputs": [
    {
     "name": "stdout",
     "output_type": "stream",
     "text": [
      "[[4.952751911647706, 4.381203796235167, 4.748213694651813], [7.140025059294605, 4.455266640968482, 7.121656248929415], [9.863264337045257, 4.574874882596147, 9.601645701926314]]\n"
     ]
    }
   ],
   "source": [
    "times = []\n",
    "# Opening files with times\n",
    "with open('ex_enum10.json') as ex_enum:\n",
    "    with open('loc_sea10.json') as loc_sea:\n",
    "        with open('cpu_par10.json') as par:\n",
    "            ex_en = json.load(ex_enum)\n",
    "            loc_s = json.load(loc_sea)\n",
    "            c_par = json.load(par)\n",
    "            times.append(\n",
    "                [math.log(ex_en['mean']*100),\n",
    "                 math.log(loc_s['mean']*100),\n",
    "                 math.log(c_par['mean']*100)])\n",
    "\n",
    "with open('ex_enum11.json') as ex_enum:\n",
    "    with open('loc_sea11.json') as loc_sea:\n",
    "        with open('cpu_par11.json') as par:\n",
    "            ex_en = json.load(ex_enum)\n",
    "            loc_s = json.load(loc_sea)\n",
    "            c_par = json.load(par)\n",
    "            times.append(\n",
    "                [math.log(ex_en['mean']*100),\n",
    "                 math.log(loc_s['mean']*100),\n",
    "                 math.log(c_par['mean']*100)])\n",
    "\n",
    "with open('ex_enum12.json') as ex_enum:\n",
    "    with open('loc_sea12.json') as loc_sea:\n",
    "        with open('cpu_par12.json') as par:\n",
    "            ex_en = json.load(ex_enum)\n",
    "            loc_s = json.load(loc_sea)\n",
    "            c_par = json.load(par)\n",
    "            times.append(\n",
    "                [math.log(ex_en['mean']*100),\n",
    "                 math.log(loc_s['mean']*100),\n",
    "                 math.log(c_par['mean']*100)])\n",
    "\n",
    "print(times)"
   ]
  },
  {
   "cell_type": "code",
   "execution_count": 20,
   "metadata": {},
   "outputs": [
    {
     "data": {
      "text/plain": [
       "Text(0.5, 1.0, 'Time to execute')"
      ]
     },
     "execution_count": 20,
     "metadata": {},
     "output_type": "execute_result"
    },
    {
     "data": {
      "image/png": "[encoded data removed]",
      "text/plain": [
       "<Figure size 432x288 with 1 Axes>"
      ]
     },
     "metadata": {
      "needs_background": "light"
     },
     "output_type": "display_data"
    }
   ],
   "source": [
    "# Mean times\n",
    "groups = times\n",
    "group_labels = ['10', '11', '12']\n",
    "\n",
    "# Convert data to pandas DataFrame.\n",
    "df = pd.DataFrame(groups, index=group_labels).T\n",
    "\n",
    "# Plot.\n",
    "pd.concat(\n",
    "    [df.loc[0].rename('Exhaustive Enumeration'),\n",
    "     df.loc[1].rename('Local Search'),\n",
    "     df.loc[2].rename('CPU parallel')],\n",
    "    axis=1).plot.bar()\n",
    "plt.xlabel('Number of nodes in network', fontsize=13)\n",
    "plt.ylabel('log(Time(s))', fontsize=13)\n",
    "plt.title('Time to execute', fontsize=16)"
   ]
  },
  {
   "cell_type": "markdown",
   "metadata": {},
   "source": [
    "## Como executar na AWS\n",
    "\n",
    "Para executar o mesmo código na AWS em múltiplas máquinas, supondo que elas possuam uma pasta compartilhada através do NFS e SSH sem senha entre elas, basta executar o seguinte comando:\n",
    "\n",
    "__mpiexec --oversubscribe -n 5 -hostfile hosts ./a.out < inputs/in10__"
   ]
  },
  {
   "cell_type": "markdown",
   "metadata": {},
   "source": [
    "## Resultados e análises"
   ]
  },
  {
   "cell_type": "markdown",
   "metadata": {},
   "source": [
    "Percebemos uma diferença brutal nos resultados, mesmo aplicando o logarítimo em ambas as medições, o código da busca local é muito mais rápido do que o código exaustivo. Isso se dá principalmente pela natureza da busca local, a qual depende muito pouco do número de nós na rede do caixeiro, tendo tempos de execução quase constantes.\n",
    "\n",
    "Em contraste, o código exaustivo, possui tempos que aumentam exponencialmente com o número de nós, pois para cada nó adicional, é preciso testar _n-1_ caminhos adicionais."
   ]
  }
 ],
 "metadata": {
  "kernelspec": {
   "display_name": "Python 3",
   "language": "python",
   "name": "python3"
  },
  "language_info": {
   "codemirror_mode": {
    "name": "ipython",
    "version": 3
   },
   "file_extension": ".py",
   "mimetype": "text/x-python",
   "name": "python",
   "nbconvert_exporter": "python",
   "pygments_lexer": "ipython3",
   "version": "3.7.5rc1"
  }
 },
 "nbformat": 4,
 "nbformat_minor": 2
}
